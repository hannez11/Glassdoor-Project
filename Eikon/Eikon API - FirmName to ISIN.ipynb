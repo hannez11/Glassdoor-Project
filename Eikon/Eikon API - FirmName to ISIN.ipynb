{
 "cells": [
  {
   "cell_type": "code",
   "execution_count": 1,
   "metadata": {},
   "outputs": [],
   "source": [
    "import pandas as pd\n",
    "import numpy as np\n",
    "\n",
    "pd.options.mode.chained_assignment = None  # default='warn'\n",
    "\n",
    "from IPython.core.interactiveshell import InteractiveShell\n",
    "InteractiveShell.ast_node_interactivity = \"all\""
   ]
  },
  {
   "cell_type": "code",
   "execution_count": 3,
   "metadata": {},
   "outputs": [],
   "source": [
    "## https://developers.refinitiv.com/article/find-your-right-companies-screener-eikon-data-apispython\n",
    "# https://www.reddit.com/r/webdev/comments/t2s836/what_is_the_easiest_way_to_hide_your_api_key_on/\n",
    "import eikon as ek\n",
    "ek.set_app_key('341ab68907a740f38e7b07084d4055e3982b5bdf')"
   ]
  },
  {
   "cell_type": "markdown",
   "metadata": {},
   "source": [
    "## match glassdoor firm names with eikon firmnames & isin "
   ]
  },
  {
   "cell_type": "code",
   "execution_count": 90,
   "metadata": {},
   "outputs": [],
   "source": [
    "df_firms = pd.read_csv(r\"W:\\019_Glassdoor\\1 Data\\1 Glassdoor Links\\0816_LinksNamesReviews_bestmatch.csv\", sep=\";\", decimal=\",\", encoding='unicode_escape')\n",
    "\n",
    "## sub df\n",
    "df_firms = df_firms[[\"isin\", \"company_name\", \"best_match\"]]\n",
    "\n",
    "## filter out firm names with less than 4 characters. eikon search goes crazy with 3 character firms (eg \"UST\")\n",
    "\n",
    "df_firms = df_firms[df_firms[\"best_match\"].str.len() > 3]\n",
    "df_firms.head()\n",
    "\n",
    "## convert best_match row to list, which can be used in get_data function\n",
    "firms_list = df_firms[\"best_match\"].tolist()\n",
    "firms_list = firms_list[:10]"
   ]
  },
  {
   "cell_type": "code",
   "execution_count": 4,
   "metadata": {},
   "outputs": [
    {
     "data": {
      "text/html": [
       "<div>\n",
       "<style scoped>\n",
       "    .dataframe tbody tr th:only-of-type {\n",
       "        vertical-align: middle;\n",
       "    }\n",
       "\n",
       "    .dataframe tbody tr th {\n",
       "        vertical-align: top;\n",
       "    }\n",
       "\n",
       "    .dataframe thead th {\n",
       "        text-align: right;\n",
       "    }\n",
       "</style>\n",
       "<table border=\"1\" class=\"dataframe\">\n",
       "  <thead>\n",
       "    <tr style=\"text-align: right;\">\n",
       "      <th></th>\n",
       "      <th>Instrument</th>\n",
       "      <th>ISIN</th>\n",
       "      <th>Company Name</th>\n",
       "    </tr>\n",
       "  </thead>\n",
       "  <tbody>\n",
       "    <tr>\n",
       "      <th>0</th>\n",
       "      <td>WFM.OQ^H17</td>\n",
       "      <td>US9668371068</td>\n",
       "      <td>Whole Foods Market Inc</td>\n",
       "    </tr>\n",
       "  </tbody>\n",
       "</table>\n",
       "</div>"
      ],
      "text/plain": [
       "   Instrument          ISIN            Company Name\n",
       "0  WFM.OQ^H17  US9668371068  Whole Foods Market Inc"
      ]
     },
     "execution_count": 4,
     "metadata": {},
     "output_type": "execute_result"
    }
   ],
   "source": [
    "# criteria needs to be written in the following way: \"Contains(TR.CommonName,'Whole Foods Market') OR Contains(TR.CommonName,'TaskUs')\"\n",
    "screener_func = f'SCREEN(U(IN(Equity(active or inactive, primary))), IN(TR.ExchangeCountryCode,US) OR IN(TR.ExchangeCountryCode,CA), Contains(TR.CommonName, \"Whole Foods Market\") )'\n",
    "# column names\n",
    "fields = [\"TR.ISIN\", \"TR.CompanyName\"]\n",
    "\n",
    "df, err = ek.get_data(screener_func, fields) \n",
    "df"
   ]
  },
  {
   "cell_type": "code",
   "execution_count": 91,
   "metadata": {},
   "outputs": [
    {
     "data": {
      "text/plain": [
       "\"Contains(TR.CommonName,'Whole Foods Market') OR Contains(TR.CommonName,'TaskUs') OR Contains(TR.CommonName,'VMware') OR Contains(TR.CommonName,'Cerner') OR Contains(TR.CommonName,'Xerox') OR Contains(TR.CommonName,'Tim Hortons') OR Contains(TR.CommonName,'Atos Syntel') OR Contains(TR.CommonName,'Raytheon Technologies') OR Contains(TR.CommonName,'Tesla') OR Contains(TR.CommonName,'Convergys')\""
      ]
     },
     "execution_count": 91,
     "metadata": {},
     "output_type": "execute_result"
    },
    {
     "data": {
      "text/html": [
       "<div>\n",
       "<style scoped>\n",
       "    .dataframe tbody tr th:only-of-type {\n",
       "        vertical-align: middle;\n",
       "    }\n",
       "\n",
       "    .dataframe tbody tr th {\n",
       "        vertical-align: top;\n",
       "    }\n",
       "\n",
       "    .dataframe thead th {\n",
       "        text-align: right;\n",
       "    }\n",
       "</style>\n",
       "<table border=\"1\" class=\"dataframe\">\n",
       "  <thead>\n",
       "    <tr style=\"text-align: right;\">\n",
       "      <th></th>\n",
       "      <th>Instrument</th>\n",
       "      <th>ISIN</th>\n",
       "      <th>Company Name</th>\n",
       "    </tr>\n",
       "  </thead>\n",
       "  <tbody>\n",
       "    <tr>\n",
       "      <th>0</th>\n",
       "      <td>WFM.OQ^H17</td>\n",
       "      <td>US9668371068</td>\n",
       "      <td>Whole Foods Market Inc</td>\n",
       "    </tr>\n",
       "    <tr>\n",
       "      <th>1</th>\n",
       "      <td>TASK.OQ</td>\n",
       "      <td>US87652V1098</td>\n",
       "      <td>Taskus Inc</td>\n",
       "    </tr>\n",
       "    <tr>\n",
       "      <th>2</th>\n",
       "      <td>VMW.N</td>\n",
       "      <td>US9285634021</td>\n",
       "      <td>VMware Inc</td>\n",
       "    </tr>\n",
       "    <tr>\n",
       "      <th>3</th>\n",
       "      <td>CERN.OQ^F22</td>\n",
       "      <td>US1567821046</td>\n",
       "      <td>Cerner Corp</td>\n",
       "    </tr>\n",
       "    <tr>\n",
       "      <th>4</th>\n",
       "      <td>XRX.OQ</td>\n",
       "      <td>US98421M1062</td>\n",
       "      <td>Xerox Holdings Corp</td>\n",
       "    </tr>\n",
       "    <tr>\n",
       "      <th>5</th>\n",
       "      <td>XER_pa.TO^C06</td>\n",
       "      <td>TCP989431060</td>\n",
       "      <td>Xerox Capital LLC</td>\n",
       "    </tr>\n",
       "    <tr>\n",
       "      <th>6</th>\n",
       "      <td>GISX.OQ^E07</td>\n",
       "      <td>US37934A1007</td>\n",
       "      <td>Xerox Business Solutions Inc</td>\n",
       "    </tr>\n",
       "    <tr>\n",
       "      <th>7</th>\n",
       "      <td>THI.TO^L14</td>\n",
       "      <td>CA88706M1032</td>\n",
       "      <td>Tim Hortons Inc (Pre-Merger)</td>\n",
       "    </tr>\n",
       "    <tr>\n",
       "      <th>8</th>\n",
       "      <td>RTX.N</td>\n",
       "      <td>US75513E1010</td>\n",
       "      <td>Raytheon Technologies Corp</td>\n",
       "    </tr>\n",
       "    <tr>\n",
       "      <th>9</th>\n",
       "      <td>TXLZF.PK</td>\n",
       "      <td>CA8816011081</td>\n",
       "      <td>Tesla Exploration Ltd</td>\n",
       "    </tr>\n",
       "    <tr>\n",
       "      <th>10</th>\n",
       "      <td>TSLA.OQ</td>\n",
       "      <td>US88160R1014</td>\n",
       "      <td>Tesla Inc</td>\n",
       "    </tr>\n",
       "    <tr>\n",
       "      <th>11</th>\n",
       "      <td>TSLV.PK^I09</td>\n",
       "      <td>US8795472062</td>\n",
       "      <td>Tesla Vision Corp</td>\n",
       "    </tr>\n",
       "    <tr>\n",
       "      <th>12</th>\n",
       "      <td>SCTY.O^K16</td>\n",
       "      <td>US83416T1007</td>\n",
       "      <td>Tesla Energy Operations Inc</td>\n",
       "    </tr>\n",
       "    <tr>\n",
       "      <th>13</th>\n",
       "      <td>CVG.N^J18</td>\n",
       "      <td>US2124851062</td>\n",
       "      <td>Convergys Corp</td>\n",
       "    </tr>\n",
       "  </tbody>\n",
       "</table>\n",
       "</div>"
      ],
      "text/plain": [
       "       Instrument          ISIN                  Company Name\n",
       "0      WFM.OQ^H17  US9668371068        Whole Foods Market Inc\n",
       "1         TASK.OQ  US87652V1098                    Taskus Inc\n",
       "2           VMW.N  US9285634021                    VMware Inc\n",
       "3     CERN.OQ^F22  US1567821046                   Cerner Corp\n",
       "4          XRX.OQ  US98421M1062           Xerox Holdings Corp\n",
       "5   XER_pa.TO^C06  TCP989431060             Xerox Capital LLC\n",
       "6     GISX.OQ^E07  US37934A1007  Xerox Business Solutions Inc\n",
       "7      THI.TO^L14  CA88706M1032  Tim Hortons Inc (Pre-Merger)\n",
       "8           RTX.N  US75513E1010    Raytheon Technologies Corp\n",
       "9        TXLZF.PK  CA8816011081         Tesla Exploration Ltd\n",
       "10        TSLA.OQ  US88160R1014                     Tesla Inc\n",
       "11    TSLV.PK^I09  US8795472062             Tesla Vision Corp\n",
       "12     SCTY.O^K16  US83416T1007   Tesla Energy Operations Inc\n",
       "13      CVG.N^J18  US2124851062                Convergys Corp"
      ]
     },
     "execution_count": 91,
     "metadata": {},
     "output_type": "execute_result"
    }
   ],
   "source": [
    "firms_list_screenconverted = \"\".join([f\"Contains(TR.CommonName,'{firm}') OR \" if index != len(firms_list)-1 else f\"Contains(TR.CommonName,'{firm}')\" for index, firm in enumerate(firms_list)])\n",
    "firms_list_screenconverted\n",
    "\n",
    "screener_func = f'SCREEN(U(IN(Equity(active or inactive,primary))), IN(TR.ExchangeCountryCode,US) OR IN(TR.ExchangeCountryCode,CA), {firms_list_screenconverted} )'\n",
    "fields = [\"TR.ISIN\", \"TR.CompanyName\"]\n",
    "\n",
    "df, err = ek.get_data(screener_func, fields) \n",
    "df"
   ]
  }
 ],
 "metadata": {
  "kernelspec": {
   "display_name": "Python 3.7.4 64-bit",
   "language": "python",
   "name": "python3"
  },
  "language_info": {
   "codemirror_mode": {
    "name": "ipython",
    "version": 3
   },
   "file_extension": ".py",
   "mimetype": "text/x-python",
   "name": "python",
   "nbconvert_exporter": "python",
   "pygments_lexer": "ipython3",
   "version": "3.7.4"
  },
  "orig_nbformat": 4,
  "vscode": {
   "interpreter": {
    "hash": "7ed8f80bc52d0e15a52a73775467603ca7e78a925e993acaa8e8aae26d82a799"
   }
  }
 },
 "nbformat": 4,
 "nbformat_minor": 2
}
