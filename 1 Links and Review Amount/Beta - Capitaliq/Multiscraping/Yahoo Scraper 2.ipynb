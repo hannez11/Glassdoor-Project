{
 "cells": [
  {
   "cell_type": "markdown",
   "metadata": {},
   "source": [
    "# Grab glassdoor links and review amounts"
   ]
  },
  {
   "cell_type": "markdown",
   "metadata": {},
   "source": [
    "### Load dataframe"
   ]
  },
  {
   "cell_type": "code",
   "execution_count": 1,
   "metadata": {},
   "outputs": [],
   "source": [
    "import pandas as pd\n",
    "import numpy as np\n",
    "import requests\n",
    "from bs4 import BeautifulSoup\n",
    "from urllib.parse import unquote\n",
    "import random\n",
    "import time\n",
    "from pathlib import Path\n",
    "from torpy.http.requests import TorRequests\n",
    "\n",
    "pd.options.mode.chained_assignment = None  # default='warn'\n",
    "\n",
    "from IPython.core.interactiveshell import InteractiveShell\n",
    "InteractiveShell.ast_node_interactivity = \"all\""
   ]
  },
  {
   "cell_type": "code",
   "execution_count": 2,
   "metadata": {},
   "outputs": [],
   "source": [
    "input = pd.read_csv(r\"W:\\019_Glassdoor\\1 Data\\1 Glassdoor Links\\0813_UniqueFirmList.csv\", sep=\";\", decimal=\",\", encoding='unicode_escape')"
   ]
  },
  {
   "cell_type": "markdown",
   "metadata": {},
   "source": [
    "## yahoo scraper"
   ]
  },
  {
   "cell_type": "markdown",
   "metadata": {},
   "source": [
    "#### proxy rotation via tor"
   ]
  },
  {
   "cell_type": "code",
   "execution_count": 3,
   "metadata": {},
   "outputs": [],
   "source": [
    "def yahoo_scraper(df, sleeptime_max=1, tor_active=\"no\"):\n",
    "    try: #if operation fails, then return the current df\n",
    "        firmname = df[\"CompanyName\"]\n",
    "        print(f\"Firm #{df.name + 1}: {firmname}\")\n",
    "        # query = f'site:glassdoor.com {firmname}'.replace(' ', '+')\n",
    "        query = f'site:glassdoor.com \"{firmname}\"'.replace(' ', '+') #putting {firmname} around \"\" might help. however, the query might also be too strict not returning any results\n",
    "        URL = f\"https://search.yahoo.com/search?p={query}&vc=en&pz=20\"\n",
    "\n",
    "        ## shuffle through user agent list for bot prevention. use IP shuffling to prevent further bot detection\n",
    "        time.sleep(round(random.uniform(0.25,sleeptime_max), 3))\n",
    "        USER_AGENTS = [\"Mozilla/5.0 (Windows NT 10.0; Win64; x64; rv:76.0) Gecko/20100101 Firefox/76.0\",\n",
    "                    \"Mozilla/5.0 (Windows NT 10.0; Win64; x64; rv:103.0) Gecko/20100101 Firefox/103.0\",\n",
    "                    \"Mozilla/5.0 (Windows NT 10.0; Win64; x64) AppleWebKit/537.36 (KHTML, like Gecko) Chrome/103.0.0.0 Safari/537.36\",\n",
    "                    \"Mozilla/5.0 (Windows NT 10.0; Win64; x64) AppleWebKit/537.36 (KHTML, like Gecko) Chrome/83.0.4103.61 Safari/537.36\",\n",
    "                    \"Mozilla/5.0 (Windows NT 10.0; Win64; x64) AppleWebKit/537.36 (KHTML, like Gecko) Chrome/103.0.0.0 Safari/537.36 Edg/103.0.1264.71\"\n",
    "                    ]\n",
    "        headers = {\"user-agent\":random.choice(USER_AGENTS)}\n",
    "\n",
    "        ## use tor\n",
    "        if tor_active==\"yes\":\n",
    "            url = sess.get(URL, headers=headers)\n",
    "        ## use regular IP\n",
    "        else:\n",
    "            url = requests.get(URL, headers=headers)\n",
    "\n",
    "        soup = BeautifulSoup(url.content, \"html.parser\")\n",
    "        time.sleep(0.2) #to fully load the page\n",
    "\n",
    "        ## scraper ##\n",
    "        #############\n",
    "\n",
    "        link_found = 0\n",
    "        ## check if amount of ratings is displayed in at least of the search results. if so, grab this number and the parent div containing the link\n",
    "        if soup.find(\"li\", {\"class\":[\"tc\", \"bxz-bb\"]}) and len(soup.find(\"li\", {\"class\":[\"tc\", \"bxz-bb\"]}).text)<15: #check length of the classes text, since class is not exclusively used for amount of ratings\n",
    "            ## grab the review number\n",
    "            review_amount = soup.find(\"li\", {\"class\":[\"tc\", \"bxz-bb\"]}) #only get the first item, since it appears to be most accurate. could be of the last search result\n",
    "            try: #sometimes \"Currency: EUR\" is displayed instead of the review amount\n",
    "                review_amount_final = review_amount.text.split(\"(\")[1][:-1] #\"4/5 (3)\"\n",
    "                if \"K\" in review_amount_final: # \"5.7K\" to 5700\n",
    "                    review_amount_final = review_amount_final.replace(\".\", \"\")\n",
    "                    review_amount_final = review_amount_final.replace(\"K\", \"00\")\n",
    "                # print(f\"review amount: {review_amount_final}\")\n",
    "                df[\"review_amount\"] = review_amount_final\n",
    "                ## grab the href from the parent of the same search result\n",
    "            except:\n",
    "                df[\"review_amount\"] = \"\" \n",
    "            review_parents = review_amount.find_parents(\"div\")\n",
    "            for link in review_parents:\n",
    "                if link.find(\"a\") and \"glassdoor\" in link.find(\"a\")[\"href\"]:\n",
    "                    alink = link.find(\"a\")\n",
    "                    link_found = 1\n",
    "                    break\n",
    "        ## if amount of ratings is not on page, then just grab the href\n",
    "        elif link_found != 1:\n",
    "            # print(\"review amount: none found\")\n",
    "            results = soup.findAll(\"h3\")\n",
    "            for link in results:\n",
    "                if link.find(\"a\") and \"glassdoor\" in link.find(\"a\")[\"href\"]:\n",
    "                    alink = link.find(\"a\")\n",
    "                    link_found = 1\n",
    "                    break\n",
    "        ## if neither link nor review amount was found\n",
    "            if link_found != 1:\n",
    "                link_found = \"no link found\" #\"no link found\"\n",
    "                link_final = \"\"\n",
    "                print(\"no link found\")\n",
    "\n",
    "        \n",
    "        ## decode href link if link was found ##\n",
    "\n",
    "        if link_found == 1:\n",
    "            link_with_yahoo = unquote(alink[\"href\"]) #unquote decodes URLs\n",
    "            try: #weird cases in which an image link is retrieved\n",
    "                link_final = link_with_yahoo.split(\"RU=\")[1].split(\"/RK=2\")[0] #https://r.search.yahoo.com/_ylt=A0geK9dD9t9i2BIAtodXNyoA;_ylu=Y29sbwNiZjEEcG9zAzEEdnRpZAMEc2VjA3Ny/RV=2/RE=1658873541/RO=10/RU=https://www.glassdoor.com/Overview/Working-at-California-Micro-Devices-EI_IE1221.11,35.htm/RK=2/RS=Ss7CVR85Jhnt899NkWVSw9eSVUw-\n",
    "                if \"/Working\" in link_final:\n",
    "                    # from https://www.glassdoor.com/Overview/Working-at-Tesla-EI_IE43129.11,16.htm\n",
    "                    # to https://www.glassdoor.com/Reviews/Tesla-Reviews-E43129.htm\n",
    "                    link_final = link_final.replace(\"/Overview/Working-at-\", \"/Reviews/\") #shouldnt be an issue to replace the /Overview/ part with /Reviews/ even though the original Reviews link looks different\n",
    "                    link_final = link_final.replace(\"EI_IE\", \"Reviews-E\") \n",
    "                    link_final = link_final.split(\".htm\")[0][:-6] + \".htm\"\n",
    "                    link_found = \"transformed overview link\"\n",
    "                elif \"/Jobs/\" in link_final:\n",
    "                    link_final = link_final.replace(\"/Jobs/\", \"/Reviews/\")\n",
    "                    link_final = link_final.replace(\"-Jobs-\", \"-Reviews-\")\n",
    "                    link_found = \"transformed jobs link\"\n",
    "                elif \"/Salary/\" in link_final:\n",
    "                    link_final = link_final.replace(\"/Salary/\", \"/Reviews/\")\n",
    "                    link_final = link_final.replace(\"-Salaries-\", \"-Reviews-\")\n",
    "                    link_found = \"transformed salary link\"\n",
    "                elif \"/Reviews/\" in link_final:\n",
    "                    link_found = \"original review link\"\n",
    "                else:\n",
    "                #elif \"/job-listing/\" or \"/Job/\" in link_final:\n",
    "                    link_found = \"wrong link\"\n",
    "            except:\n",
    "                link_final = link_with_yahoo\n",
    "                \n",
    "        df[\"Link_Hannes\"] = link_final\n",
    "        df[\"link_found\"] = link_found\n",
    "        print(link_final, \"\\n\")\n",
    "\n",
    "        return df\n",
    "\n",
    "    except:\n",
    "        return df\n",
    "\n",
    "# yahoo_scraper(\"El Paso Pipeline Partners\")"
   ]
  },
  {
   "cell_type": "code",
   "execution_count": 5,
   "metadata": {},
   "outputs": [
    {
     "name": "stdout",
     "output_type": "stream",
     "text": [
      "Connecting to tor..\n",
      "Current IP:{'origin': '185.220.101.32'}; sleeptime: 0.5\n",
      "\n",
      "Firm #1: Mid-America Apartment Communities \n"
     ]
    },
    {
     "name": "stderr",
     "output_type": "stream",
     "text": [
      "c:\\Users\\g21728\\AppData\\Local\\Programs\\Python\\Python37\\lib\\site-packages\\cryptography\\hazmat\\backends\\openssl\\x509.py:17: CryptographyDeprecationWarning: This version of cryptography contains a temporary pyOpenSSL fallback path. Upgrade pyOpenSSL now.\n",
      "  utils.DeprecatedIn35,\n"
     ]
    },
    {
     "name": "stdout",
     "output_type": "stream",
     "text": [
      "https://www.glassdoor.com/job-listing/apartment-maintenance-technician-maa-JV_IC1155583_KO0,32_KE33,36.htm?jl=1007168498537 \n",
      "\n",
      "Current IP:{'origin': '185.220.101.32'}\n",
      "Firm #2: ICC Labs\n",
      "no link found\n",
      " \n",
      "\n",
      "Current IP:{'origin': '185.220.101.32'}\n",
      "Firm #3: DXC United Pty\n",
      "no link found\n",
      " \n",
      "\n",
      "Current IP:{'origin': '185.220.101.32'}\n",
      "Firm #4: China Nutrifruit Group\n",
      "no link found\n",
      " \n",
      "\n",
      "Current IP:{'origin': '185.220.101.32'}\n",
      "Firm #5: China Opportunity Acquisition\n",
      "no link found\n",
      " \n",
      "\n",
      "Current IP:{'origin': '185.220.101.32'}\n",
      "Firm #6: MACOM Technology Solutions \n",
      "https://www.glassdoor.com/Reviews/MACOM-Reviews-E19802.htm \n",
      "\n",
      "Current IP:{'origin': '185.220.101.32'}\n",
      "Firm #7: Cell Source \n",
      "https://www.glassdoor.com/job-listing/research-assistant-ii-baylor-college-of-medicine-JV_IC1140171_KO0,21_KE22,48.htm?jl=1008071962290 \n",
      "\n",
      "Current IP:{'origin': '185.220.101.32'}\n",
      "Firm #8: RTS Oil \n"
     ]
    },
    {
     "name": "stderr",
     "output_type": "stream",
     "text": [
      "Stream #11: closed (but received b'i\\xc9\\xc3\\x81\\x99\\x0bs\\x15\\xd8,\\x9b\\xe8\\xb7Kk\\xe2\\xf1\\x16A\\x90\\xac\\xf3\\xeb\\xa7\\x9e\\xb8E\\xc6\\x10\\x9b\\xc1\\xa2K\\xd0-\\xf8U\\x96oo|\\x0e]Y+\\xd5\\x92#\\xac\\xc2%\\xb3x\\x10\\x18\\xc6\\x02s\\xb4\\xa1\\xc5o\\xbc\\x1a\\xf0\\xbc\\xbdF0\\xb7\\xcc\"\\x15\\xb0\\xd6\\xd5\\xcd\\\\.\\xf9#\\x9co\\xeb!\\x88\\x96\"Tb\\xcfJ\\xd4\\x9aU\\xca\\x12\\x01a+\\xb0\\x08\\x13\\x94D:9xF@\\x06\\x83[^W\\x847\\xf4D@\\x13|P\\xe3\\xbc\\\\\\x8b\\xd3\\x9a8L\\xbf\\x8e\\x9c\\x18\\x80\\x829\\x98\\xf9\\xebNk\\xcc\\x12\\t\\xa4\\x19v,=M\\x90\\xe0*\\x95g\\xcc\\xef9\\x17q\\x08\\xc3o!\\xba\\xbf\\xbefQ\\xd4\\xcc4[G\\x97\\x9c\\xd5\\x9f\\x1d\\xe86h\\xb4M\\x95\\xbf\\xefY\\xee\\xdf\\x82\\xab\\xd5L\\xe1eT\\x10\\xc8\\x18%\\x9b@\\xd9\\xe2P\\x96\\x07\\xf1u\\x18aI\\xac\\x86\\xdb\\xa8G&`\\x98\\x1b^GN\\xf1y\\x8a\\x15\\x90\\x08\\x0e G%\\x84x\\x9e\\x07\\n\\xeb\\xb7\\x07\\xf5\\xe5h\\x89\\xbc#E{\\x07\\xe6\\xe7\\xa3\\x18~u\\xcd\\xd3:\\xd0\\xdb\\xab\\xd9P!T\\xda\\xf9o\\x84\\xb5\\xec\\xe12\\xa7X\\x179\\xdfmJ\\xc5\\xe3\\x95mw\\xc2\\xb6\\x80\\xac\\xad\\x94$P\\xe2\\xb0l\\x91\\x1aI\\x96y$\\x19\\xb3\\xf6\\xb3\\xbf\\xca\\xcc\\xd3\\xa52n\\x82\\xd8;\\xe7\\xd4\\xc0\\xc3~>\\xd1\\xc8\\xdb\\x08QKA\\xe4F{,E\\xf4\\xab\\xdf\\xba\\xdaw\\xb1\\x140\\xf8\\xa8\\xd7\\xbd\\xe4\\x80\\xca_\\xedE\\xe53\\xf3\\n\\x9e\\x98\\xd9L\\xc0\\xac\\x99\\xc3e\\xb5\\xd7\\x1f\\x0c`\\xd7\\x8a.\\xe4\\xc2\\x1ct\\xa4\\xe7Aj\\x1da]eU\\x8e,Y\\xf2\\x95\\x1b`Bw5|UAI\\x8e2\\r\\xaf\"\\x85\\xc3\\x12\\xdfvj\\xb5;p\\x0b\\xf4\\xf6=\\xfd\\'\\xf0\\xf8$\\xc9\\x12\\xa5:Q\\x95\\x1e\\x12`\\\\\\x10\\xb8\\x15\\xee\\x1d\\xc7\\x82\\x8a\\x0f+\\x87\\xa48\\xf8v\\x90\\xed\\xd8p\\x81\\x90\\xf9\\xe8\\x99k\\x9f+\\x87W\\xe4QO\\xdc\\xaeR\\xf9z\\xd9~>.\\xa3\\x1b\\x10\\xf7\\x8d\\xff\\x0cr\\xc1:|\\x9e\\x1fC\\t2\\xce\\'')\n",
      "Stream #11 is already closed or was never opened (but received CellRelay(inner_cell = CellRelayData(data = ... (498 bytes)), stream_id = 11, digest = b'\\x0e\\xc1!\\xa8', circuit_id = 80000005))\n",
      "Stream #11 is already closed or was never opened (but received CellRelay(inner_cell = CellRelayData(data = ... (498 bytes)), stream_id = 11, digest = b'p\\x02R\\x84', circuit_id = 80000005))\n",
      "Stream #11 is already closed or was never opened (but received CellRelay(inner_cell = CellRelayData(data = ... (498 bytes)), stream_id = 11, digest = b'\\x86\\xfe.G', circuit_id = 80000005))\n",
      "Stream #11 is already closed or was never opened (but received CellRelay(inner_cell = CellRelayData(data = ... (498 bytes)), stream_id = 11, digest = b'Z\\x98\\xe8\\xe8', circuit_id = 80000005))\n",
      "Stream #11 is already closed or was never opened (but received CellRelay(inner_cell = CellRelayData(data = ... (498 bytes)), stream_id = 11, digest = b'\\xaa\\xf7**', circuit_id = 80000005))\n",
      "Stream #11 is already closed or was never opened (but received CellRelay(inner_cell = CellRelayData(data = ... (498 bytes)), stream_id = 11, digest = b'\\xfd\\x89-\\x06', circuit_id = 80000005))\n",
      "Stream #11 is already closed or was never opened (but received CellRelay(inner_cell = CellRelayData(data = ... (358 bytes)), stream_id = 11, digest = b'\\xb7\\x8d\\x1da', circuit_id = 80000005))\n",
      "Stream #11 is already closed or was never opened (but received CellRelay(inner_cell = CellRelayData(data = ... (498 bytes)), stream_id = 11, digest = b'\\xf58`k', circuit_id = 80000005))\n",
      "Stream #11 is already closed or was never opened (but received CellRelay(inner_cell = CellRelayData(data = ... (498 bytes)), stream_id = 11, digest = b'\\\\\\xc6\\x1b\\x0b', circuit_id = 80000005))\n",
      "Stream #11 is already closed or was never opened (but received CellRelay(inner_cell = CellRelayData(data = ... (498 bytes)), stream_id = 11, digest = b'\\xf1\\xe8\\tQ', circuit_id = 80000005))\n",
      "Stream #11 is already closed or was never opened (but received CellRelay(inner_cell = CellRelayData(data = ... (498 bytes)), stream_id = 11, digest = b'\\xc0\\x0bw\\xf9', circuit_id = 80000005))\n",
      "Stream #11 is already closed or was never opened (but received CellRelay(inner_cell = CellRelayData(data = ... (498 bytes)), stream_id = 11, digest = b'\\x88/\\xc9\\x93', circuit_id = 80000005))\n",
      "Stream #11 is already closed or was never opened (but received CellRelay(inner_cell = CellRelayData(data = ... (498 bytes)), stream_id = 11, digest = b'9\\x04\\xd6\\xfd', circuit_id = 80000005))\n",
      "Stream #11 is already closed or was never opened (but received CellRelay(inner_cell = CellRelayData(data = ... (498 bytes)), stream_id = 11, digest = b'\\xfd\\xbafh', circuit_id = 80000005))\n",
      "Stream #11 is already closed or was never opened (but received CellRelay(inner_cell = CellRelayData(data = ... (75 bytes)), stream_id = 11, digest = b'~w\\x1c\\x1c', circuit_id = 80000005))\n",
      "Stream #11 is already closed or was never opened (but received CellRelay(inner_cell = CellRelayData(data = ... (498 bytes)), stream_id = 11, digest = b'`\\xfe\\xad\\xc7', circuit_id = 80000005))\n",
      "Stream #11 is already closed or was never opened (but received CellRelay(inner_cell = CellRelayData(data = ... (498 bytes)), stream_id = 11, digest = b'\\xdf\\x10\\xce ', circuit_id = 80000005))\n",
      "Stream #11 is already closed or was never opened (but received CellRelay(inner_cell = CellRelayData(data = ... (498 bytes)), stream_id = 11, digest = b'\\x03\\x8a*\\xfd', circuit_id = 80000005))\n",
      "Stream #11 is already closed or was never opened (but received CellRelay(inner_cell = CellRelayData(data = ... (498 bytes)), stream_id = 11, digest = b'e\\xa6\\xe3\\x19', circuit_id = 80000005))\n",
      "Stream #11 is already closed or was never opened (but received CellRelay(inner_cell = CellRelayData(data = ... (498 bytes)), stream_id = 11, digest = b'\\x03\\x8e\\xde\\xb5', circuit_id = 80000005))\n",
      "Stream #11 is already closed or was never opened (but received CellRelay(inner_cell = CellRelayData(data = ... (498 bytes)), stream_id = 11, digest = b'\\x1e\\x9fh\\xc0', circuit_id = 80000005))\n",
      "Stream #11 is already closed or was never opened (but received CellRelay(inner_cell = CellRelayData(data = ... (296 bytes)), stream_id = 11, digest = b'\\x05\\xbd\\xb3\\xe4', circuit_id = 80000005))\n"
     ]
    },
    {
     "name": "stdout",
     "output_type": "stream",
     "text": [
      "Firm #9: BioTransplant Incorporated\n"
     ]
    },
    {
     "name": "stderr",
     "output_type": "stream",
     "text": [
      "Stream #11: closed already\n",
      "Stream #11 is already closed or was never opened (but received CellRelay(inner_cell = CellRelayData(data = ... (498 bytes)), stream_id = 11, digest = b'H\\xcc<\\x9b', circuit_id = 80000005))\n",
      "Stream #11 is already closed or was never opened (but received CellRelay(inner_cell = CellRelayData(data = ... (498 bytes)), stream_id = 11, digest = b'\\xec\\xf3p\\x06', circuit_id = 80000005))\n",
      "Stream #11 is already closed or was never opened (but received CellRelay(inner_cell = CellRelayData(data = ... (498 bytes)), stream_id = 11, digest = b'-\\xcd\\xf6\\xea', circuit_id = 80000005))\n",
      "Stream #11 is already closed or was never opened (but received CellRelay(inner_cell = CellRelayData(data = ... (498 bytes)), stream_id = 11, digest = b'\\xe4\\xa8\\x03\\xb6', circuit_id = 80000005))\n",
      "Stream #11 is already closed or was never opened (but received CellRelay(inner_cell = CellRelayData(data = ... (498 bytes)), stream_id = 11, digest = b'%:D\\xbd', circuit_id = 80000005))\n",
      "Stream #11 is already closed or was never opened (but received CellRelay(inner_cell = CellRelayData(data = ... (498 bytes)), stream_id = 11, digest = b'\\xf8]\\xdf\\xe3', circuit_id = 80000005))\n",
      "Stream #11 is already closed or was never opened (but received CellRelay(inner_cell = CellRelayData(data = ... (498 bytes)), stream_id = 11, digest = b'\\tH\\xfa\\x02', circuit_id = 80000005))\n",
      "Stream #11 is already closed or was never opened (but received CellRelay(inner_cell = CellRelayData(data = ... (498 bytes)), stream_id = 11, digest = b'\\x8c\\x0b\\x83\\xe9', circuit_id = 80000005))\n",
      "Stream #11 is already closed or was never opened (but received CellRelay(inner_cell = CellRelayData(data = ... (498 bytes)), stream_id = 11, digest = b's\\xd2\\xce\\x83', circuit_id = 80000005))\n",
      "Stream #11 is already closed or was never opened (but received CellRelay(inner_cell = CellRelayData(data = ... (498 bytes)), stream_id = 11, digest = b'\\xde=\\x13\\xb1', circuit_id = 80000005))\n",
      "Stream #11 is already closed or was never opened (but received CellRelay(inner_cell = CellRelayData(data = ... (290 bytes)), stream_id = 11, digest = b'\\xcfX@\\xf8', circuit_id = 80000005))\n",
      "Stream #12: closed (but received b'\\xe50\\xadO\\x8d\\xd5\\x91\\xf4\\xfe\\xfd\\x96U\\xe0\\x16\\x81\\x9b\\x1b\\xe4\\x8eB\\x1f\\xfdz\\xf1\\xa1\\x9by\\xb9\\xe4\\xef\\xa1\\xfa\\xa4\\xe2\\xbc\\xa1\\xdc\\xb1g\\x82\\xeeTt)\\x85\\xfa\" \\x1b\\x03\\x8a\\xb9\\xbb\\xe5\\x1a\\x1c\\xc8\\xda\\x00k\\xb9\\xeaA\\x1b\\xb2b\\x98h\\xe1\\x95& \\xd5\\xa0-\\xb5aI\\xc8N\\x95\\xe8\\xac\\xaf\\x1eJ\\x9a\"{\\x03\\xd3\\xe9\\x83\\xee\\x12\\xa24\\x07\\x84g\\x14\\xad\\xa8\\xb42\\x7f\\x0b\\xcdf\\x9c>D\\xabU\\x98\\x10I\\x98}/\\xe95\\x0e\\xf2\\xc0\\xf55f\\xd7\\x92\\x85\\xdc\\x07u\\x15\\xac\\x83\\x8e\\x808\\xd6\\x8a\\x81,[\\x87i\\xd8\\x9b\\xf7\\xb8\\xfa\\x06\\xe8\\xc81wI\\xd5\\xc7*R\\x1d[\\xa1\\xc5\\xbf]\\xe2\\x9f\\x08\\x7fS\\x83R\\xe4\\xf88\\x8al!\\xe8\\x15\\xc5)\\xd0pH\\x07\\x86\\xc5\\xb0/\\x99Q\\xb4\\x8f!\\x18\\xe1~\\x02\\xfb\\x81\\xd6/\\xd8\\x91Tx\\xaa\\xc6\\xcf\\xe1n\\xc5\\x86\\xa1\\xe1\\x06\\xdd\\xfa\\xf3\\x96e\\x01\\x88\\xa3k\\xed\\x94\\x9a\\xf0\\\\\\x994\\xa9a\\xd0U\\x1f\\xae\\x97\\xa2\\xbbJ\\xebV\\xcaN\\xec\\xaf\\xf8-\\x05$9\\x99\\xe7m\\x90\\xd6\\xb3\\xea\\x1f\\x94\\xf2\\x10\\xfac;\\x1b4\\xa8/\\xf7\\x9e\\xda\\x1c\\x95\\xd0V\\x80\\xf5\\xb7\\x83m(~\\xb2\\x88\\xe3\\x9b+\\xc6\\xbb\\x9e\\xe9\\xfc&\\xa0\\x90\\xf6J\\xf7/\\x95\\x9e\\xc3\\x86\\xfe\\xf9\\x90&G\\xca\\xbe\\xbb\\x94d\\xcb\\xa8\\xf1z\\xbe\\xe2\\x98\\x89u\\x7f\\xd0\\xe3\\xc3\\xc7\\xbc\\x1b\\xdfgu\\xa2A\\xfdW\"\\x94,u\\x9a;\\x04\\xd2j\\x1a\\x9b=Q?\\xecCa\\xd8\\xf3{\\x11\\xb7\\xf6\\\\\\xc9\\xab{O\\xd0\\xaa\\x07s\\tG\\xb9\\x8f\\x98k\\x1d\\x0fB\\xb4X*\\xed |\\x1eM;\\x80\\xccaj\\xbc]\\x84\\x95\\x98\\x97\\x1aC\\x84\\x1e\\xed\\x044\\xe3L\\x18/]\\xc2h\\xf5W5_\\x98)\\xf5\\xf0\\xef\\x1c\\xafpL{b\\xc1\\x87V,\\xb0\\xe9|1\\r4o\\xb7\\x93\\xb0\\xfe\\xe4yB\\xa2\\xf1\\n\\xa8V\\x8c\\x82\\x8a\\xca\\xdaP\\xf2\\xad\\t\\x0c8\\x86a\\xf8\\n\\x9d\\xdd\\xf7[L \\xbfi\\xe9L\\x95F\\x98\\xae\\xfc\\t%_\\xd5=\\xed<\\xcb\\xdc\\x85\\x86\\xcc\\x06')\n",
      "Stream #12 is already closed or was never opened (but received CellRelay(inner_cell = CellRelayData(data = ... (498 bytes)), stream_id = 12, digest = b'AX\\x88\\xc6', circuit_id = 80000005))\n",
      "Stream #12 is already closed or was never opened (but received CellRelay(inner_cell = CellRelayData(data = ... (498 bytes)), stream_id = 12, digest = b'\\x97\\xb5,\\x97', circuit_id = 80000005))\n",
      "Stream #12 is already closed or was never opened (but received CellRelay(inner_cell = CellRelayData(data = ... (498 bytes)), stream_id = 12, digest = b'\\x11\\x12\\x14\\xc8', circuit_id = 80000005))\n",
      "Stream #12 is already closed or was never opened (but received CellRelay(inner_cell = CellRelayData(data = ... (498 bytes)), stream_id = 12, digest = b'sXC\\x86', circuit_id = 80000005))\n",
      "Stream #12 is already closed or was never opened (but received CellRelay(inner_cell = CellRelayData(data = ... (498 bytes)), stream_id = 12, digest = b'\\t\\xcd4\\xa3', circuit_id = 80000005))\n",
      "Stream #12 is already closed or was never opened (but received CellRelay(inner_cell = CellRelayData(data = ... (498 bytes)), stream_id = 12, digest = b'q\\x06r\\x04', circuit_id = 80000005))\n",
      "Stream #12 is already closed or was never opened (but received CellRelay(inner_cell = CellRelayData(data = ... (498 bytes)), stream_id = 12, digest = b'6\\xdfs\\xe7', circuit_id = 80000005))\n",
      "Stream #12 is already closed or was never opened (but received CellRelay(inner_cell = CellRelayData(data = ... (498 bytes)), stream_id = 12, digest = b'-\\xe5\\xa3j', circuit_id = 80000005))\n",
      "Stream #12 is already closed or was never opened (but received CellRelay(inner_cell = CellRelayData(data = ... (498 bytes)), stream_id = 12, digest = b'+9.8', circuit_id = 80000005))\n",
      "Stream #12 is already closed or was never opened (but received CellRelay(inner_cell = CellRelayData(data = ... (498 bytes)), stream_id = 12, digest = b'\\xebx\\xf2\\xd0', circuit_id = 80000005))\n",
      "Stream #12 is already closed or was never opened (but received CellRelay(inner_cell = CellRelayData(data = ... (498 bytes)), stream_id = 12, digest = b\"\\x07\\xac''\", circuit_id = 80000005))\n",
      "Stream #12 is already closed or was never opened (but received CellRelay(inner_cell = CellRelayData(data = ... (498 bytes)), stream_id = 12, digest = b'yO\\xca\\x91', circuit_id = 80000005))\n",
      "Stream #12 is already closed or was never opened (but received CellRelay(inner_cell = CellRelayData(data = ... (498 bytes)), stream_id = 12, digest = b'\\x93\\xba\\xefg', circuit_id = 80000005))\n",
      "Stream #12 is already closed or was never opened (but received CellRelay(inner_cell = CellRelayData(data = ... (498 bytes)), stream_id = 12, digest = b'\\xdf\\x89\\xf7\\xdf', circuit_id = 80000005))\n",
      "Stream #12 is already closed or was never opened (but received CellRelay(inner_cell = CellRelayData(data = ... (498 bytes)), stream_id = 12, digest = b'\\xe5\\xc8\\xbc\\xe3', circuit_id = 80000005))\n",
      "Stream #12 is already closed or was never opened (but received CellRelay(inner_cell = CellRelayData(data = ... (498 bytes)), stream_id = 12, digest = b'\\xd1\\xe40\\xbc', circuit_id = 80000005))\n",
      "Stream #12 is already closed or was never opened (but received CellRelay(inner_cell = CellRelayData(data = ... (498 bytes)), stream_id = 12, digest = b'\\x1eve\\x88', circuit_id = 80000005))\n",
      "Stream #12 is already closed or was never opened (but received CellRelay(inner_cell = CellRelayData(data = ... (498 bytes)), stream_id = 12, digest = b'\\xb8\\x17\\xca\\x89', circuit_id = 80000005))\n",
      "Stream #12 is already closed or was never opened (but received CellRelay(inner_cell = CellRelayData(data = ... (498 bytes)), stream_id = 12, digest = b'\\xce\\x10a1', circuit_id = 80000005))\n",
      "Stream #12 is already closed or was never opened (but received CellRelay(inner_cell = CellRelayData(data = ... (498 bytes)), stream_id = 12, digest = b'\\x10\\x7f`\\xe4', circuit_id = 80000005))\n",
      "Stream #12 is already closed or was never opened (but received CellRelay(inner_cell = CellRelayData(data = ... (498 bytes)), stream_id = 12, digest = b'r\\x10\\xc1\\t', circuit_id = 80000005))\n",
      "Stream #12 is already closed or was never opened (but received CellRelay(inner_cell = CellRelayData(data = ... (175 bytes)), stream_id = 12, digest = b'|S\\xd1\\x13', circuit_id = 80000005))\n",
      "Stream #12 is already closed or was never opened (but received CellRelay(inner_cell = CellRelayData(data = ... (498 bytes)), stream_id = 12, digest = b'\\x9c1E\\xe9', circuit_id = 80000005))\n",
      "Stream #12 is already closed or was never opened (but received CellRelay(inner_cell = CellRelayData(data = ... (498 bytes)), stream_id = 12, digest = b'\\x01\\x1d\\x0er', circuit_id = 80000005))\n"
     ]
    },
    {
     "name": "stdout",
     "output_type": "stream",
     "text": [
      "Firm #10: Inca Minerals \n"
     ]
    }
   ],
   "source": [
    "## set parameters\n",
    "startrow, endrow = 12000, 13000\n",
    "tor = \"yes\" # change to yes or no\n",
    "sleeptime_max = 0.5 #use >2 with original ip (tor = \"no\"). around 1000 requests possible until temp. ip block\n",
    "\n",
    "\n",
    "## create a copy of the input frame; keep old index as extra column\n",
    "input_copy = input[startrow:endrow].reset_index(drop=False)\n",
    "\n",
    "input_copy[\"Link_Hannes\"] = np.nan\n",
    "input_copy[\"review_amount\"] = np.nan\n",
    "input_copy[\"link_found\"] = np.nan\n",
    "\n",
    "## execute yahoo scraper for each row by using apply ##\n",
    "#######################################################\n",
    "\n",
    "## with Tor-Gateway\n",
    "if tor == \"yes\":\n",
    "    with TorRequests() as tor_requests:\n",
    "        print(\"Connecting to tor..\")\n",
    "        with tor_requests.get_session() as sess: #sess pulls a request of the page with the tor connection\n",
    "            current_ip = sess.get(\"http://httpbin.org/ip\").json()\n",
    "            print(f\"Current IP:{current_ip}; sleeptime: {sleeptime_max}\\n\")\n",
    "            input_copy = input_copy.apply(yahoo_scraper, args=(sleeptime_max, \"yes\"), axis=1) #sess method can be executed from this sibling function\n",
    "## without tor\n",
    "else:\n",
    "    input_copy = input_copy.apply(yahoo_scraper, args=(sleeptime_max, \"no\"), axis=1)\n",
    "print(f\"Scraping finished for {startrow} to {endrow}\")\n",
    "    \n",
    "\n",
    "## reorder columns\n",
    "# input_copy.keys() #['index', 'CompanyName', 'Ticker', 'ISIN', 'Link_Marius', 'Max_Cosine_Similarity', '2008_2022', 'EnglishSpeaking', 'Link_Hannes', 'review_amount', 'link_found']\n",
    "input_copy = input_copy[['index', 'ISIN', 'Ticker', '2008_2022', 'EnglishSpeaking', 'CompanyName', 'Max_Cosine_Similarity', 'Link_Marius', 'Link_Hannes', 'link_found', 'review_amount']]\n",
    "\n",
    "\n",
    "## save file with dynamic file name\n",
    "path_with_time = Path.joinpath(Path.cwd().parent, f'{time.strftime(\"%m%d\")}_UniqueFirmList_HannesLinks_{startrow}-{endrow}_strict.csv')\n",
    "#\"W:\\019_Glassdoor\\1 Data\\1 Glassdoor Links\\0808_UniqueFirmList_HannesLinks_1500-1509.csv\"\n",
    "input_copy.to_csv(path_with_time, sep=\";\", decimal=\",\", index=False)\n",
    "print(f\"{path_with_time} saved\")"
   ]
  }
 ],
 "metadata": {
  "kernelspec": {
   "display_name": "Python 3.7.4 64-bit",
   "language": "python",
   "name": "python3"
  },
  "language_info": {
   "codemirror_mode": {
    "name": "ipython",
    "version": 3
   },
   "file_extension": ".py",
   "mimetype": "text/x-python",
   "name": "python",
   "nbconvert_exporter": "python",
   "pygments_lexer": "ipython3",
   "version": "3.7.4"
  },
  "orig_nbformat": 4,
  "vscode": {
   "interpreter": {
    "hash": "7ed8f80bc52d0e15a52a73775467603ca7e78a925e993acaa8e8aae26d82a799"
   }
  }
 },
 "nbformat": 4,
 "nbformat_minor": 2
}
